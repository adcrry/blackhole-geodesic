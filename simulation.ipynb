{
 "cells": [
  {
   "cell_type": "code",
   "execution_count": 15,
   "metadata": {},
   "outputs": [],
   "source": [
    "from matplotlib import pyplot as plt, patches\n",
    "import sympy\n",
    "import numpy as np\n",
    "from scipy.integrate import solve_ivp"
   ]
  },
  {
   "cell_type": "code",
   "execution_count": 3,
   "metadata": {},
   "outputs": [],
   "source": [
    "#initilize the symbols\n",
    "t = sympy.Symbol('t')\n",
    "r = sympy.Symbol('r')\n",
    "theta = sympy.Symbol('theta')\n",
    "phi = sympy.Symbol('phi')\n",
    "c = sympy.Symbol('c')\n",
    "R_s = sympy.Symbol('R_s')\n",
    "x = [t,r,theta,phi]\n",
    "\n",
    "#initilize the metric\n",
    "g = sympy.Matrix([[-c*c*(1-R_s/r),0,0,0],[0,1/(1-R_s/r),0,0],[0,0,r**2,0],[0,0,0,r**2*sympy.sin(theta)**2]])\n",
    "g_inv = g.inv()\n",
    "\n",
    "#initilize the christoffel symbols\n",
    "chris = []\n",
    "for k in range(4):\n",
    "    chris.append([])\n",
    "    for i in range(4):\n",
    "        chris[k].append([])\n",
    "        for j in range(4):\n",
    "            #note that in the case of Schwarzschild metric, g is diagonal, so the christoffel symbols are simplified\n",
    "            chris[k][i].append(sympy.simplify(0.5*g_inv[k,k]*(sympy.diff(g[k,i],x[j])+sympy.diff(g[k,j],x[i])-sympy.diff(g[i,j],x[k]))))\n",
    "\n",
    "\n",
    "chris_fun = sympy.lambdify((c, R_s, r, theta), chris, modules=\"numpy\")"
   ]
  },
  {
   "cell_type": "code",
   "execution_count": 5,
   "metadata": {},
   "outputs": [
    {
     "data": {
      "text/latex": [
       "$\\displaystyle \\left[\\begin{matrix}0 & \\frac{0.5 R_{s}}{r \\left(- R_{s} + r\\right)} & 0 & 0\\\\\\frac{0.5 R_{s}}{r \\left(- R_{s} + r\\right)} & 0 & 0 & 0\\\\0 & 0 & 0 & 0\\\\0 & 0 & 0 & 0\\end{matrix}\\right]$"
      ],
      "text/plain": [
       "Matrix([\n",
       "[                     0, 0.5*R_s/(r*(-R_s + r)), 0, 0],\n",
       "[0.5*R_s/(r*(-R_s + r)),                      0, 0, 0],\n",
       "[                     0,                      0, 0, 0],\n",
       "[                     0,                      0, 0, 0]])"
      ]
     },
     "execution_count": 5,
     "metadata": {},
     "output_type": "execute_result"
    }
   ],
   "source": [
    "sympy.Matrix(chris[0])"
   ]
  },
  {
   "cell_type": "code",
   "execution_count": 6,
   "metadata": {},
   "outputs": [
    {
     "data": {
      "text/latex": [
       "$\\displaystyle \\left[\\begin{matrix}\\frac{0.5 R_{s} c^{2} \\left(- R_{s} + r\\right)}{r^{3}} & 0 & 0 & 0\\\\0 & \\frac{0.5 R_{s}}{r \\left(R_{s} - r\\right)} & 0 & 0\\\\0 & 0 & 1.0 R_{s} - 1.0 r & 0\\\\0 & 0 & 0 & \\left(R_{s} - 1.0 r\\right) \\sin^{2}{\\left(\\theta \\right)}\\end{matrix}\\right]$"
      ],
      "text/plain": [
       "Matrix([\n",
       "[0.5*R_s*c**2*(-R_s + r)/r**3,                     0,               0,                           0],\n",
       "[                           0, 0.5*R_s/(r*(R_s - r)),               0,                           0],\n",
       "[                           0,                     0, 1.0*R_s - 1.0*r,                           0],\n",
       "[                           0,                     0,               0, (R_s - 1.0*r)*sin(theta)**2]])"
      ]
     },
     "execution_count": 6,
     "metadata": {},
     "output_type": "execute_result"
    }
   ],
   "source": [
    "sympy.Matrix(chris[1])"
   ]
  },
  {
   "cell_type": "code",
   "execution_count": 7,
   "metadata": {},
   "outputs": [
    {
     "data": {
      "text/latex": [
       "$\\displaystyle \\left[\\begin{matrix}0 & 0 & 0 & 0\\\\0 & 0 & \\frac{1.0}{r} & 0\\\\0 & \\frac{1.0}{r} & 0 & 0\\\\0 & 0 & 0 & - 0.5 \\sin{\\left(2 \\theta \\right)}\\end{matrix}\\right]$"
      ],
      "text/plain": [
       "Matrix([\n",
       "[0,     0,     0,                 0],\n",
       "[0,     0, 1.0/r,                 0],\n",
       "[0, 1.0/r,     0,                 0],\n",
       "[0,     0,     0, -0.5*sin(2*theta)]])"
      ]
     },
     "execution_count": 7,
     "metadata": {},
     "output_type": "execute_result"
    }
   ],
   "source": [
    "sympy.Matrix(chris[2])"
   ]
  },
  {
   "cell_type": "code",
   "execution_count": 8,
   "metadata": {},
   "outputs": [
    {
     "data": {
      "text/latex": [
       "$\\displaystyle \\left[\\begin{matrix}0 & 0 & 0 & 0\\\\0 & 0 & 0 & \\frac{1.0}{r}\\\\0 & 0 & 0 & \\frac{1.0}{\\tan{\\left(\\theta \\right)}}\\\\0 & \\frac{1.0}{r} & \\frac{1.0}{\\tan{\\left(\\theta \\right)}} & 0\\end{matrix}\\right]$"
      ],
      "text/plain": [
       "Matrix([\n",
       "[0,     0,              0,              0],\n",
       "[0,     0,              0,          1.0/r],\n",
       "[0,     0,              0, 1.0/tan(theta)],\n",
       "[0, 1.0/r, 1.0/tan(theta),              0]])"
      ]
     },
     "execution_count": 8,
     "metadata": {},
     "output_type": "execute_result"
    }
   ],
   "source": [
    "sympy.Matrix(chris[3])"
   ]
  },
  {
   "cell_type": "code",
   "execution_count": 9,
   "metadata": {},
   "outputs": [],
   "source": [
    "#solvable form of the geodesic equation\n",
    "# return geodesic equation's right hand side\n",
    "def F(t, y):\n",
    "    x = np.array(y[0:4])\n",
    "    xp = np.array(y[4:8])\n",
    "    right = []\n",
    "    for i in range(4):\n",
    "        right.append(sympy.simplify(0))\n",
    "        for alpha in range(4):\n",
    "            for beta in range(4):\n",
    "                right[i] = right[i] - chris_fun(1, 1, x[1], x[2])[i][alpha][beta]*xp[alpha]*xp[beta]\n",
    "    return np.concatenate((xp, right))"
   ]
  },
  {
   "cell_type": "code",
   "execution_count": 39,
   "metadata": {},
   "outputs": [],
   "source": [
    "T = 500\n",
    "t_eval = np.linspace(0, T, int(T * 123 + 1))\n",
    "initial_value = [0, 10, np.pi/2, 0, 1, 0, 0.015, 0]\n",
    "\n",
    "sol = solve_ivp(F, [0, T], initial_value, t_eval=t_eval)"
   ]
  },
  {
   "cell_type": "code",
   "execution_count": 40,
   "metadata": {},
   "outputs": [
    {
     "data": {
      "text/plain": [
       "Text(0, 0.5, 'x')"
      ]
     },
     "execution_count": 40,
     "metadata": {},
     "output_type": "execute_result"
    },
    {
     "data": {
      "image/png": "[encoded data removed]",
      "text/plain": [
       "<Figure size 1008x432 with 1 Axes>"
      ]
     },
     "metadata": {
      "needs_background": "light"
     },
     "output_type": "display_data"
    },
    {
     "data": {
      "image/png": "[encoded data removed]",
      "text/plain": [
       "<Figure size 432x432 with 1 Axes>"
      ]
     },
     "metadata": {
      "needs_background": "light"
     },
     "output_type": "display_data"
    }
   ],
   "source": [
    "plt.figure(figsize=(14, 6),)\n",
    "plt.plot(sol.y[0], sol.y[1])\n",
    "ax = plt.gca()\n",
    "ax.axhline(1, color=\"red\", ls='--', lw=1)\n",
    "plt.grid()\n",
    "plt.xlabel('t')\n",
    "plt.ylabel('r')\n",
    "\n",
    "plt.figure(figsize=(6, 6),)\n",
    "plt.plot(sol.y[1]*np.cos(sol.y[2]), sol.y[1]*np.sin(sol.y[2]))\n",
    "plt.grid()\n",
    "plt.xlim(-12, 12)\n",
    "plt.ylim(-12, 12)\n",
    "ax = plt.gca()\n",
    "circle1 = patches.Circle((0, 0), radius=1, color='black')\n",
    "ax.add_patch(circle1)\n",
    "plt.xlabel('y')\n",
    "plt.ylabel('x')"
   ]
  }
 ],
 "metadata": {
  "kernelspec": {
   "display_name": "Python 3",
   "language": "python",
   "name": "python3"
  },
  "language_info": {
   "codemirror_mode": {
    "name": "ipython",
    "version": 3
   },
   "file_extension": ".py",
   "mimetype": "text/x-python",
   "name": "python",
   "nbconvert_exporter": "python",
   "pygments_lexer": "ipython3",
   "version": "3.7.6"
  }
 },
 "nbformat": 4,
 "nbformat_minor": 4
}
